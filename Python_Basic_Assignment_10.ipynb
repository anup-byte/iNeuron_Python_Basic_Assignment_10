{
 "cells": [
  {
   "cell_type": "markdown",
   "metadata": {},
   "source": [
    "Q1. How do you distinguish between shutil.copy() and shutil.copytree()?\n",
    "\n",
    "Ans: The shutil.copy() function will copy a single file, while shutil.copytree() will copy an entire folder, \n",
    "     along with all its contents."
   ]
  },
  {
   "cell_type": "markdown",
   "metadata": {},
   "source": [
    "Q2. What function is used to rename files??\n",
    "\n",
    "Ans: Python rename() file is a method used to rename a file or a directory in Python programming. The Python \n",
    "     rename() file method can be declared by passing two arguments named src(Source) and dst(Destination).\n",
    "     \n",
    "     This is the syntax for os.rename() method \n"
   ]
  },
  {
   "cell_type": "markdown",
   "metadata": {},
   "source": [
    "Q3. What is the difference between the delete functions in the send2trash and shutil modules?\n",
    "\n",
    "Ans: The send2trash functions will move a file or folder to the recycle bin, while shutil functions will \n",
    "     permanently delete files and folders."
   ]
  },
  {
   "cell_type": "markdown",
   "metadata": {},
   "source": [
    "Q4.ZipFile objects have a close() method just like File objects’ close() method. What ZipFile method is\n",
    "equivalent to File objects’ open() method?\n",
    "\n",
    "Ans:  The zipfile() function is equivalent to the open() function.The first argument is the filename,\n",
    "      and the second argument is the mode to open the ZIP file in (read, write, or append)."
   ]
  },
  {
   "cell_type": "markdown",
   "metadata": {},
   "source": [
    "Q5. Create a programme that searches a folder tree for files with a certain file extension (such as .pdf\n",
    "    or .jpg). Copy these files from whatever location they are in to a new folder."
   ]
  },
  {
   "cell_type": "code",
   "execution_count": null,
   "metadata": {},
   "outputs": [],
   "source": [
    "import os, shutil\n",
    "\n",
    "sourcePath = input(\"Enter the absolute path of the source folder: \")\n",
    "fileExtType = input(\"Enter the type of file to copy (such as .pdf or .jpg): \").lower()\n",
    "destPath = input(\"Enter the absolute path of the destination folder: \")\n",
    "\n",
    "for foldername, subfolders, filenames in os.walk(sourcePath):\n",
    "    for filename in filenames:\n",
    "        if filename.lower().endswith(fileExtType):\n",
    "            print(\"foldername + ‘\\\\’ + filename\")\n",
    "        copySourcePath = os.path.join(foldername, filename)\n",
    "        print(copySourcePath)\n",
    "        shutil.copy(copySourcePath, destPath)\n",
    "         \n",
    "    else:\n",
    "            continue"
   ]
  }
 ],
 "metadata": {
  "kernelspec": {
   "display_name": "Python 3",
   "language": "python",
   "name": "python3"
  },
  "language_info": {
   "codemirror_mode": {
    "name": "ipython",
    "version": 3
   },
   "file_extension": ".py",
   "mimetype": "text/x-python",
   "name": "python",
   "nbconvert_exporter": "python",
   "pygments_lexer": "ipython3",
   "version": "3.8.5"
  }
 },
 "nbformat": 4,
 "nbformat_minor": 4
}
